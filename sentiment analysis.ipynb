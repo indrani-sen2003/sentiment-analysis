{
 "cells": [
  {
   "cell_type": "code",
   "execution_count": 1,
   "id": "d1a1ebce",
   "metadata": {},
   "outputs": [],
   "source": [
    "import nltk"
   ]
  },
  {
   "cell_type": "code",
   "execution_count": 2,
   "id": "05decedd",
   "metadata": {},
   "outputs": [],
   "source": [
    "from wordcloud import WordCloud"
   ]
  },
  {
   "cell_type": "code",
   "execution_count": 3,
   "id": "466961e3",
   "metadata": {},
   "outputs": [],
   "source": [
    "from nltk.tokenize import word_tokenize"
   ]
  },
  {
   "cell_type": "code",
   "execution_count": 6,
   "id": "78207193",
   "metadata": {},
   "outputs": [],
   "source": [
    "from nltk.tokenize import RegexpTokenizer\n",
    "import pandas as pd\n",
    "import numpy as np"
   ]
  },
  {
   "cell_type": "code",
   "execution_count": 29,
   "id": "02a5203f",
   "metadata": {},
   "outputs": [],
   "source": [
    "from nltk.corpus import stopwords"
   ]
  },
  {
   "cell_type": "code",
   "execution_count": 8,
   "id": "1c6f9f27",
   "metadata": {},
   "outputs": [],
   "source": [
    "from nltk.stem import PorterStemmer"
   ]
  },
  {
   "cell_type": "code",
   "execution_count": 10,
   "id": "6b528fcb",
   "metadata": {},
   "outputs": [],
   "source": [
    "from nltk.stem.wordnet import WordNetLemmatizer"
   ]
  },
  {
   "cell_type": "code",
   "execution_count": 7,
   "id": "1ee000a1",
   "metadata": {},
   "outputs": [],
   "source": [
    "df_aws_review=pd.read_csv(\"d:/csv-ml/sentiment/K8 Reviews v0.2.csv\")"
   ]
  },
  {
   "cell_type": "code",
   "execution_count": 11,
   "id": "50083979",
   "metadata": {},
   "outputs": [
    {
     "data": {
      "text/html": [
       "<div>\n",
       "<style scoped>\n",
       "    .dataframe tbody tr th:only-of-type {\n",
       "        vertical-align: middle;\n",
       "    }\n",
       "\n",
       "    .dataframe tbody tr th {\n",
       "        vertical-align: top;\n",
       "    }\n",
       "\n",
       "    .dataframe thead th {\n",
       "        text-align: right;\n",
       "    }\n",
       "</style>\n",
       "<table border=\"1\" class=\"dataframe\">\n",
       "  <thead>\n",
       "    <tr style=\"text-align: right;\">\n",
       "      <th></th>\n",
       "      <th>sentiment</th>\n",
       "      <th>review</th>\n",
       "    </tr>\n",
       "  </thead>\n",
       "  <tbody>\n",
       "    <tr>\n",
       "      <th>0</th>\n",
       "      <td>1</td>\n",
       "      <td>Good but need updates and improvements</td>\n",
       "    </tr>\n",
       "    <tr>\n",
       "      <th>1</th>\n",
       "      <td>0</td>\n",
       "      <td>Worst mobile i have bought ever, Battery is dr...</td>\n",
       "    </tr>\n",
       "    <tr>\n",
       "      <th>2</th>\n",
       "      <td>1</td>\n",
       "      <td>when I will get my 10% cash back.... its alrea...</td>\n",
       "    </tr>\n",
       "    <tr>\n",
       "      <th>3</th>\n",
       "      <td>1</td>\n",
       "      <td>Good</td>\n",
       "    </tr>\n",
       "    <tr>\n",
       "      <th>4</th>\n",
       "      <td>0</td>\n",
       "      <td>The worst phone everThey have changed the last...</td>\n",
       "    </tr>\n",
       "  </tbody>\n",
       "</table>\n",
       "</div>"
      ],
      "text/plain": [
       "   sentiment                                             review\n",
       "0          1             Good but need updates and improvements\n",
       "1          0  Worst mobile i have bought ever, Battery is dr...\n",
       "2          1  when I will get my 10% cash back.... its alrea...\n",
       "3          1                                               Good\n",
       "4          0  The worst phone everThey have changed the last..."
      ]
     },
     "execution_count": 11,
     "metadata": {},
     "output_type": "execute_result"
    }
   ],
   "source": [
    "df_aws_review.head()"
   ]
  },
  {
   "cell_type": "code",
   "execution_count": 12,
   "id": "40bc3e0e",
   "metadata": {},
   "outputs": [],
   "source": [
    "#cleaning the text or preprocessing"
   ]
  },
  {
   "cell_type": "code",
   "execution_count": 14,
   "id": "4ba7d94a",
   "metadata": {},
   "outputs": [],
   "source": [
    "import string"
   ]
  },
  {
   "cell_type": "code",
   "execution_count": 17,
   "id": "6559a90f",
   "metadata": {},
   "outputs": [
    {
     "data": {
      "text/plain": [
       "'!\"#$%&\\'()*+,-./:;<=>?@[\\\\]^_`{|}~'"
      ]
     },
     "execution_count": 17,
     "metadata": {},
     "output_type": "execute_result"
    }
   ],
   "source": [
    "string.punctuation"
   ]
  },
  {
   "cell_type": "code",
   "execution_count": 20,
   "id": "69f7ef60",
   "metadata": {},
   "outputs": [],
   "source": [
    "words=[]\n",
    "for i in df_aws_review[\"review\"]:\n",
    "    words.append(word_tokenize(i))\n",
    "    \n",
    "    "
   ]
  },
  {
   "cell_type": "code",
   "execution_count": null,
   "id": "78d6765b",
   "metadata": {},
   "outputs": [],
   "source": []
  },
  {
   "cell_type": "code",
   "execution_count": 24,
   "id": "aeef94df",
   "metadata": {},
   "outputs": [],
   "source": [
    "#removed digits and punctuation\n",
    "word_token=[]\n",
    "for i in df_aws_review[\"review\"]:\n",
    "    word_token.append(RegexpTokenizer('[a-z|A-Z]+').tokenize(i))"
   ]
  },
  {
   "cell_type": "code",
   "execution_count": null,
   "id": "f4065a69",
   "metadata": {},
   "outputs": [],
   "source": []
  },
  {
   "cell_type": "code",
   "execution_count": 26,
   "id": "1304f952",
   "metadata": {},
   "outputs": [
    {
     "data": {
      "text/plain": [
       "14675"
      ]
     },
     "execution_count": 26,
     "metadata": {},
     "output_type": "execute_result"
    }
   ],
   "source": [
    "len(word_token)"
   ]
  },
  {
   "cell_type": "code",
   "execution_count": null,
   "id": "d89290f2",
   "metadata": {},
   "outputs": [],
   "source": []
  },
  {
   "cell_type": "code",
   "execution_count": 31,
   "id": "f882667f",
   "metadata": {},
   "outputs": [],
   "source": [
    "word_clean=[]\n",
    "\n",
    "for i in word_token:\n",
    "    word_clean_row=[]\n",
    "    for j in i:\n",
    "        if j not in stopwords.words(\"English\"):\n",
    "            word_clean_row.append(j)\n",
    "    word_clean.append(word_clean_row)\n",
    "            "
   ]
  },
  {
   "cell_type": "code",
   "execution_count": null,
   "id": "a0a0086d",
   "metadata": {},
   "outputs": [],
   "source": []
  },
  {
   "cell_type": "code",
   "execution_count": 33,
   "id": "754fce24",
   "metadata": {},
   "outputs": [],
   "source": [
    "#converting the text into lower case\n",
    "word_lower_row=[]\n",
    "word_lower=[]\n",
    "for i in word_clean:\n",
    "    word_lower_row=[]\n",
    "    for j in i:\n",
    "        word_lower_row.append(j.lower())\n",
    "    word_lower.append(word_lower_row)\n"
   ]
  },
  {
   "cell_type": "code",
   "execution_count": null,
   "id": "5aaa7b96",
   "metadata": {},
   "outputs": [],
   "source": []
  },
  {
   "cell_type": "code",
   "execution_count": 35,
   "id": "2dfb1665",
   "metadata": {},
   "outputs": [],
   "source": [
    "#stemming\n",
    "word_stem_row=[]\n",
    "word_stem=[]\n",
    "for i in word_lower:\n",
    "    word_stem_row=[]\n",
    "    for j in i:\n",
    "        word_stem_row.append(PorterStemmer().stem(j))\n",
    "    word_stem.append(word_stem_row)"
   ]
  },
  {
   "cell_type": "code",
   "execution_count": null,
   "id": "9aa6392a",
   "metadata": {},
   "outputs": [],
   "source": []
  },
  {
   "cell_type": "code",
   "execution_count": 37,
   "id": "6365d55c",
   "metadata": {},
   "outputs": [],
   "source": [
    "#lemmatization\n",
    "word_lemma_row=[]\n",
    "word_lemma=[]\n",
    "for i in word_lower:\n",
    "    word_lemma_row=[]\n",
    "    for j in i:\n",
    "        word_lemma_row.append(WordNetLemmatizer().lemmatize(j))\n",
    "    word_lemma.append(word_lemma_row)\n",
    "        "
   ]
  },
  {
   "cell_type": "code",
   "execution_count": null,
   "id": "ef49c6dd",
   "metadata": {},
   "outputs": [],
   "source": []
  },
  {
   "cell_type": "code",
   "execution_count": 40,
   "id": "4e598c86",
   "metadata": {},
   "outputs": [],
   "source": [
    "#apply pos tagging\n",
    "\n",
    "word_tag=[]\n",
    "for i in word_lemma:\n",
    "    word_tag.append(nltk.pos_tag(i))\n",
    "   "
   ]
  },
  {
   "cell_type": "code",
   "execution_count": null,
   "id": "2adca8e1",
   "metadata": {},
   "outputs": [],
   "source": []
  },
  {
   "cell_type": "code",
   "execution_count": 42,
   "id": "0dd098de",
   "metadata": {},
   "outputs": [],
   "source": [
    "#for understanding the context filter the nouns"
   ]
  },
  {
   "cell_type": "code",
   "execution_count": 49,
   "id": "647a0575",
   "metadata": {},
   "outputs": [],
   "source": [
    "filtered_tag=[]\n",
    "for i in word_tag:\n",
    "    filtered_row=[]\n",
    "    for j in i:\n",
    "        if j[1].startswith(\"NN\"):\n",
    "            filtered_row.append(j[0])\n",
    "    filtered_tag.append(filtered_row)\n",
    "        "
   ]
  },
  {
   "cell_type": "code",
   "execution_count": null,
   "id": "1aa5bc21",
   "metadata": {},
   "outputs": [],
   "source": []
  },
  {
   "cell_type": "code",
   "execution_count": 51,
   "id": "f86da870",
   "metadata": {},
   "outputs": [],
   "source": [
    "#generate a word cloud\n",
    "words=[]\n",
    "for i in filtered_tag:\n",
    "    for j in i:\n",
    "        words.append(j)\n",
    "    "
   ]
  },
  {
   "cell_type": "code",
   "execution_count": null,
   "id": "5628da4c",
   "metadata": {},
   "outputs": [],
   "source": []
  },
  {
   "cell_type": "code",
   "execution_count": 53,
   "id": "d945f4ba",
   "metadata": {},
   "outputs": [],
   "source": [
    "word_str=','.join(words)"
   ]
  },
  {
   "cell_type": "code",
   "execution_count": null,
   "id": "43339899",
   "metadata": {},
   "outputs": [],
   "source": []
  },
  {
   "cell_type": "code",
   "execution_count": 58,
   "id": "8e02f74f",
   "metadata": {},
   "outputs": [],
   "source": [
    "wc= WordCloud(background_color=\"black\", max_words=10000, contour_width=3, contour_color='steelblue')"
   ]
  },
  {
   "cell_type": "code",
   "execution_count": 59,
   "id": "0376a0e3",
   "metadata": {},
   "outputs": [
    {
     "data": {
      "text/plain": [
       "<wordcloud.wordcloud.WordCloud at 0x1d5e0634940>"
      ]
     },
     "execution_count": 59,
     "metadata": {},
     "output_type": "execute_result"
    }
   ],
   "source": [
    "from wordcloud import WordCloud\n",
    "wc.generate(word_str)"
   ]
  },
  {
   "cell_type": "code",
   "execution_count": 60,
   "id": "236943ba",
   "metadata": {},
   "outputs": [],
   "source": [
    "import matplotlib.pyplot as plt"
   ]
  },
  {
   "cell_type": "code",
   "execution_count": 62,
   "id": "a3085cce",
   "metadata": {},
   "outputs": [
    {
     "data": {
      "image/png": "[encoded data removed]",
      "text/plain": [
       "<PIL.Image.Image image mode=RGB size=400x200 at 0x1D5EDA3BC40>"
      ]
     },
     "execution_count": 62,
     "metadata": {},
     "output_type": "execute_result"
    },
    {
     "data": {
      "text/plain": [
       "<Figure size 3600x3600 with 0 Axes>"
      ]
     },
     "metadata": {},
     "output_type": "display_data"
    }
   ],
   "source": [
    "plt.figure(figsize=(50,50))\n",
    "wc.to_image()"
   ]
  },
  {
   "cell_type": "code",
   "execution_count": 64,
   "id": "48e5fd47",
   "metadata": {},
   "outputs": [],
   "source": [
    "from sklearn.feature_extraction.text import CountVectorizer"
   ]
  },
  {
   "cell_type": "code",
   "execution_count": 65,
   "id": "0251d254",
   "metadata": {},
   "outputs": [],
   "source": [
    "str_list=[]\n",
    "for i in filtered_tag:\n",
    "    str_list.append(','.join(i))\n",
    "    \n",
    "    "
   ]
  },
  {
   "cell_type": "code",
   "execution_count": null,
   "id": "e14c5191",
   "metadata": {},
   "outputs": [],
   "source": []
  },
  {
   "cell_type": "code",
   "execution_count": 67,
   "id": "b7a1fe75",
   "metadata": {},
   "outputs": [],
   "source": [
    "v1=CountVectorizer().fit(str_list)"
   ]
  },
  {
   "cell_type": "code",
   "execution_count": 1,
   "id": "285d8961",
   "metadata": {},
   "outputs": [],
   "source": [
    "#v1.get_feature_names()"
   ]
  },
  {
   "cell_type": "code",
   "execution_count": 69,
   "id": "03dd667c",
   "metadata": {},
   "outputs": [],
   "source": [
    "v2=v1.transform(str_list)"
   ]
  },
  {
   "cell_type": "code",
   "execution_count": 70,
   "id": "dbd9e535",
   "metadata": {},
   "outputs": [
    {
     "data": {
      "text/plain": [
       "array([[0, 0, 0, ..., 0, 0, 0],\n",
       "       [0, 0, 0, ..., 0, 0, 0],\n",
       "       [0, 0, 0, ..., 0, 0, 0],\n",
       "       ...,\n",
       "       [0, 0, 0, ..., 0, 0, 0],\n",
       "       [0, 0, 0, ..., 0, 0, 0],\n",
       "       [0, 0, 0, ..., 0, 0, 0]], dtype=int64)"
      ]
     },
     "execution_count": 70,
     "metadata": {},
     "output_type": "execute_result"
    }
   ],
   "source": [
    "v2.toarray()"
   ]
  },
  {
   "cell_type": "code",
   "execution_count": 73,
   "id": "f078bcef",
   "metadata": {},
   "outputs": [],
   "source": [
    "from sklearn.model_selection import train_test_split"
   ]
  },
  {
   "cell_type": "code",
   "execution_count": 71,
   "id": "db28927f",
   "metadata": {},
   "outputs": [],
   "source": [
    "from sklearn.naive_bayes import MultinomialNB"
   ]
  },
  {
   "cell_type": "code",
   "execution_count": 74,
   "id": "1eb9f023",
   "metadata": {},
   "outputs": [],
   "source": [
    "x_tr,x_test,y_tr,y_test=train_test_split(v2,df_aws_review[\"sentiment\"],test_size=.2)"
   ]
  },
  {
   "cell_type": "code",
   "execution_count": 75,
   "id": "8bd56dff",
   "metadata": {},
   "outputs": [],
   "source": [
    "nb_mod=MultinomialNB().fit(x_tr,y_tr)"
   ]
  },
  {
   "cell_type": "code",
   "execution_count": 76,
   "id": "8ce46294",
   "metadata": {},
   "outputs": [],
   "source": [
    "p=nb_mod.predict(x_test)"
   ]
  },
  {
   "cell_type": "code",
   "execution_count": 77,
   "id": "7b96bada",
   "metadata": {},
   "outputs": [
    {
     "data": {
      "text/plain": [
       "array([0, 0, 1, ..., 0, 1, 0], dtype=int64)"
      ]
     },
     "execution_count": 77,
     "metadata": {},
     "output_type": "execute_result"
    }
   ],
   "source": [
    "p"
   ]
  },
  {
   "cell_type": "code",
   "execution_count": 78,
   "id": "ba275f10",
   "metadata": {},
   "outputs": [],
   "source": [
    "from sklearn.metrics import accuracy_score"
   ]
  },
  {
   "cell_type": "code",
   "execution_count": 79,
   "id": "3512f99a",
   "metadata": {},
   "outputs": [
    {
     "data": {
      "text/plain": [
       "0.7165247018739352"
      ]
     },
     "execution_count": 79,
     "metadata": {},
     "output_type": "execute_result"
    }
   ],
   "source": [
    "accuracy_score(y_test,p)"
   ]
  },
  {
   "cell_type": "code",
   "execution_count": null,
   "id": "e3c5a24d",
   "metadata": {},
   "outputs": [],
   "source": []
  }
 ],
 "metadata": {
  "kernelspec": {
   "display_name": "Python 3 (ipykernel)",
   "language": "python",
   "name": "python3"
  },
  "language_info": {
   "codemirror_mode": {
    "name": "ipython",
    "version": 3
   },
   "file_extension": ".py",
   "mimetype": "text/x-python",
   "name": "python",
   "nbconvert_exporter": "python",
   "pygments_lexer": "ipython3",
   "version": "3.9.7"
  }
 },
 "nbformat": 4,
 "nbformat_minor": 5
}
